{
  "nbformat": 4,
  "nbformat_minor": 0,
  "metadata": {
    "colab": {
      "provenance": []
    },
    "kernelspec": {
      "name": "python3",
      "display_name": "Python 3"
    },
    "language_info": {
      "name": "python"
    }
  },
  "cells": [
    {
      "cell_type": "code",
      "execution_count": 12,
      "metadata": {
        "colab": {
          "base_uri": "https://localhost:8080/"
        },
        "id": "NWF9-5QcFTLL",
        "outputId": "707f5b24-8fe9-4b41-b50d-07e63dc05ded"
      },
      "outputs": [
        {
          "output_type": "stream",
          "name": "stdout",
          "text": [
            "[5, 1, 4, 3, 2, 7, 6]\n",
            "[1, 2, 3, 4, 5, 6, 7]\n"
          ]
        }
      ],
      "source": [
        "#Bubble Sort\n",
        "def Bubble_sort(arr):\n",
        "  n = len(arr)\n",
        "\n",
        "  for i in range(n-1):\n",
        "     for j in range(n-1-i):\n",
        "        if (arr[j]>arr[j+1]):\n",
        "         arr[j] , arr[j+1] = arr[j+1] , arr[j]\n",
        "arr = [5,1,4,3,2,7,6]\n",
        "print(arr)\n",
        "Bubble_sort(arr)\n",
        "print(arr)\n",
        "print(\"Shantanu\")"
      ]
    }
  ]
}